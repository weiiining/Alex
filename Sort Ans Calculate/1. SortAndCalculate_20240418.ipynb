{
 "cells": [
  {
   "cell_type": "markdown",
   "id": "dc76c1cc",
   "metadata": {},
   "source": [
    "# Quiz Answer"
   ]
  },
  {
   "cell_type": "markdown",
   "id": "8a977499",
   "metadata": {},
   "source": [
    "## 給一個數字列表，找出列表中[三個數字相加等於0]的組合。\n",
    "\n",
    "舉例：\n",
    "nums = [-1, 0, 1, 2, -1, -4]，則函數應該返回 [[ -1, 0, 1 ], [ -1, -1, 2 ]]。\n",
    "\n",
    "注意：\n",
    "結果不能重複。"
   ]
  },
  {
   "cell_type": "code",
   "execution_count": 4,
   "id": "3ee2d0c3",
   "metadata": {},
   "outputs": [
    {
     "name": "stdout",
     "output_type": "stream",
     "text": [
      "[[-1, -1, 2], [-1, 0, 1]]\n"
     ]
    }
   ],
   "source": [
    "def three_sum(nums):\n",
    "    nums.sort()  # 排序\n",
    "    result = []\n",
    "    \n",
    "    for i in range(len(nums) - 2):\n",
    "        if nums[i] == nums[i - 1]: # 避免重複\n",
    "            continue\n",
    "        \n",
    "        left = i + 1\n",
    "        _next = len(nums) - 1\n",
    "        while left < _next:\n",
    "            total = nums[i] + nums[left] + nums[_next] #當前數字 + 前面數字 + 後面數字\n",
    "            if total == 0:\n",
    "                result.append([nums[i], nums[left], nums[_next]])\n",
    "                left += 1\n",
    "                _next -= 1\n",
    "            elif total < 0:\n",
    "                left += 1\n",
    "            else:\n",
    "                _next -= 1\n",
    "                \n",
    "    return result\n",
    "\n",
    "nums = [-1, 0, 1, 2, -1, -4]\n",
    "print(three_sum(nums))  # [[-1, -1, 2], [-1, 0, 1]]"
   ]
  },
  {
   "cell_type": "code",
   "execution_count": null,
   "id": "afaf5db6",
   "metadata": {},
   "outputs": [],
   "source": []
  }
 ],
 "metadata": {
  "kernelspec": {
   "display_name": "Python 3 (ipykernel)",
   "language": "python",
   "name": "python3"
  },
  "language_info": {
   "codemirror_mode": {
    "name": "ipython",
    "version": 3
   },
   "file_extension": ".py",
   "mimetype": "text/x-python",
   "name": "python",
   "nbconvert_exporter": "python",
   "pygments_lexer": "ipython3",
   "version": "3.7.8"
  }
 },
 "nbformat": 4,
 "nbformat_minor": 5
}

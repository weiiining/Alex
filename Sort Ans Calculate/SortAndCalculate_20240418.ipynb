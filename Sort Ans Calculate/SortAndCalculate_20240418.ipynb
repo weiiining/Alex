{
 "cells": [
  {
   "cell_type": "markdown",
   "id": "7f163a84",
   "metadata": {},
   "source": [
    "# 1. Sort"
   ]
  },
  {
   "cell_type": "markdown",
   "id": "9e903ea3",
   "metadata": {},
   "source": [
    "### > sort number"
   ]
  },
  {
   "cell_type": "code",
   "execution_count": 26,
   "id": "a80fdacd",
   "metadata": {},
   "outputs": [
    {
     "name": "stdout",
     "output_type": "stream",
     "text": [
      "[0, 77, 87, 88, 250, 666, 1111]\n"
     ]
    }
   ],
   "source": [
    "a = [77, 88, 250, 666, 87, 1111, 0]\n",
    "a.sort()\n",
    "print(a)"
   ]
  },
  {
   "cell_type": "markdown",
   "id": "7dbd4c75",
   "metadata": {},
   "source": [
    "### > sort string"
   ]
  },
  {
   "cell_type": "code",
   "execution_count": 19,
   "id": "b64e39d1",
   "metadata": {},
   "outputs": [
    {
     "name": "stdout",
     "output_type": "stream",
     "text": [
      "['0', '1111', '250', '666', '77', '87', '88']\n"
     ]
    }
   ],
   "source": [
    "b = ['77', '88', '250', '666', '87', '1111', '0']\n",
    "b.sort()\n",
    "print(b)"
   ]
  },
  {
   "cell_type": "markdown",
   "id": "45d348e8",
   "metadata": {},
   "source": [
    "# 2. list operation"
   ]
  },
  {
   "cell_type": "markdown",
   "id": "daa587cd",
   "metadata": {},
   "source": [
    "### > add next number"
   ]
  },
  {
   "cell_type": "code",
   "execution_count": 25,
   "id": "80e47686",
   "metadata": {},
   "outputs": [
    {
     "name": "stdout",
     "output_type": "stream",
     "text": [
      "[3, 5, 7, 9]\n"
     ]
    }
   ],
   "source": [
    "numbers = [1, 2, 3, 4, 5]\n",
    "\n",
    "sums = []\n",
    "\n",
    "for i in range(len(numbers) - 1):\n",
    "    sum_result = numbers[i] + numbers[i + 1]\n",
    "    sums.append(sum_result)\n",
    "\n",
    "print(sums)"
   ]
  },
  {
   "cell_type": "markdown",
   "id": "507f2e03",
   "metadata": {},
   "source": [
    "### > add previous number"
   ]
  },
  {
   "cell_type": "code",
   "execution_count": 28,
   "id": "16eb8cb8",
   "metadata": {},
   "outputs": [
    {
     "name": "stdout",
     "output_type": "stream",
     "text": [
      "[13, 15, 17, 19]\n"
     ]
    }
   ],
   "source": [
    "numbers = [6, 7, 8, 9, 10]\n",
    "\n",
    "sums = []\n",
    "\n",
    "for i in range(1, len(numbers)):\n",
    "    sum_result = numbers[i] + numbers[i - 1]\n",
    "    sums.append(sum_result)\n",
    "\n",
    "print(sums)"
   ]
  },
  {
   "cell_type": "markdown",
   "id": "971a7abb",
   "metadata": {},
   "source": [
    "# 3. Quiz"
   ]
  },
  {
   "cell_type": "markdown",
   "id": "781f44b5",
   "metadata": {},
   "source": [
    "## 給一個數字列表，找出列表中[三個數字相加等於0]的組合。\n",
    "\n",
    "舉例：\n",
    "nums = [-1, 0, 1, 2, -1, -4]，則函數應該返回 [[ -1, 0, 1 ], [ -1, -1, 2 ]]。\n",
    "\n",
    "注意：\n",
    "結果不能重複。"
   ]
  },
  {
   "cell_type": "code",
   "execution_count": null,
   "id": "393a6645",
   "metadata": {},
   "outputs": [],
   "source": []
  },
  {
   "cell_type": "code",
   "execution_count": null,
   "id": "1b57b019",
   "metadata": {},
   "outputs": [],
   "source": []
  }
 ],
 "metadata": {
  "kernelspec": {
   "display_name": "Python 3 (ipykernel)",
   "language": "python",
   "name": "python3"
  },
  "language_info": {
   "codemirror_mode": {
    "name": "ipython",
    "version": 3
   },
   "file_extension": ".py",
   "mimetype": "text/x-python",
   "name": "python",
   "nbconvert_exporter": "python",
   "pygments_lexer": "ipython3",
   "version": "3.7.8"
  }
 },
 "nbformat": 4,
 "nbformat_minor": 5
}
